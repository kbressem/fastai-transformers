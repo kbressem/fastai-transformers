{
 "cells": [
  {
   "cell_type": "code",
   "execution_count": null,
   "metadata": {},
   "outputs": [],
   "source": [
    "# default_exp predict\n",
    "# export\n",
    "\n",
    "from fastai.text.all import *\n",
    "from fastai_transformer.core import *\n",
    "from tqdm import tqdm"
   ]
  },
  {
   "cell_type": "code",
   "execution_count": null,
   "metadata": {},
   "outputs": [],
   "source": [
    "# export\n",
    "class Inferencer(object):\n",
    "    def __init__(self, learn): store_attr()\n",
    "    \n",
    "    def predict(self, item):\n",
    "        dl = self.learn.dls.test_dl([item], rm_type_tfms=None, num_workers=0)\n",
    "        pred = self.learn.model(dl.one_batch()[0])[0].sigmoid()\n",
    "        pred_cls = torch.stack(torch.where(pred > 0.5))[1]\n",
    "        dec = self.learn.dls.multi_categorize.decodes(pred_cls)\n",
    "        return dec"
   ]
  },
  {
   "cell_type": "code",
   "execution_count": null,
   "metadata": {},
   "outputs": [],
   "source": [
    "# export\n",
    "def _predict(model_name, items):\n",
    "    learn = load_learner(model_name)\n",
    "    infer = Inferencer(learn)\n",
    "    \n",
    "    items = Path(items)\n",
    "    if items.is_file(): items = [items]\n",
    "    elif items.is_dir(): items = items.ls()\n",
    "    else: raise TypeError(f'expected items to be a file_name or directory name but got {type(items)}')\n",
    "    texts = [open(item).read() for item in items]\n",
    "    \n",
    "    preds = []\n",
    "    \n",
    "    for text in tqdm(texts): \n",
    "        p = infer.predict(text)\n",
    "        preds.append(';'.join(p))\n",
    "    \n",
    "    return pd.DataFrame({'items': items, \n",
    "                         'preds': preds})"
   ]
  },
  {
   "cell_type": "code",
   "execution_count": null,
   "metadata": {},
   "outputs": [],
   "source": [
    "# export\n",
    "_model_names = {\n",
    "    'bert': '/media/ScaleOut/pretrained/pickled_fastai_models/ct_classification/bert.pkl',\n",
    "    'distilbert': '/media/ScaleOut/pretrained/pickled_fastai_models/ct_classification/distilbert.pkl',\n",
    "    'lstm': '/media/ScaleOut/pretrained/pickled_fastai_models/ct_classification/lstm.pkl',\n",
    "    'roberta': '/media/ScaleOut/pretrained/pickled_fastai_models/ct_classification/roberta.pkl',\n",
    "}"
   ]
  },
  {
   "cell_type": "code",
   "execution_count": null,
   "metadata": {},
   "outputs": [],
   "source": [
    "# export\n",
    "@call_parse\n",
    "def main(model_name:Param('The path to the pickled fastai model', str) , \n",
    "            items:Param('A single file to predict or a folder with files to predict', str)):\n",
    "    if model_name in _model_names.keys(): model_name = _model_names[model_name]\n",
    "    df = _predict(model_name, items)\n",
    "    df.to_csv(f'prediction_{Path(model_name).name}.csv', index=False)\n",
    "    print(df)"
   ]
  },
  {
   "cell_type": "code",
   "execution_count": null,
   "metadata": {},
   "outputs": [],
   "source": []
  }
 ],
 "metadata": {
  "kernelspec": {
   "display_name": "fastai",
   "language": "python",
   "name": "fastai"
  }
 },
 "nbformat": 4,
 "nbformat_minor": 4
}
