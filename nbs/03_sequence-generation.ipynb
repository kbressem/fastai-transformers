{
 "cells": [
  {
   "cell_type": "markdown",
   "metadata": {},
   "source": [
    "# Sequence generation\n",
    "> Sequence generation with Huggingface transformers and fastai\n",
    "\n",
    "In this notebook GPT2 will be used to generate radiology report texts"
   ]
  },
  {
   "cell_type": "code",
   "execution_count": null,
   "metadata": {},
   "outputs": [],
   "source": [
    "import transformers\n",
    "from transformers import AutoTokenizer, AutoModelForCausalLM\n",
    "from fastai_transformer.core import *\n",
    "from fastai.text.all import *"
   ]
  },
  {
   "cell_type": "code",
   "execution_count": null,
   "metadata": {},
   "outputs": [],
   "source": [
    "# cuda\n",
    "from fastai.distributed import *"
   ]
  },
  {
   "cell_type": "code",
   "execution_count": null,
   "metadata": {},
   "outputs": [],
   "source": [
    "pretrained_weights = 'gpt2'\n",
    "tokenizer = AutoTokenizer.from_pretrained(pretrained_weights)"
   ]
  },
  {
   "cell_type": "code",
   "execution_count": null,
   "metadata": {},
   "outputs": [],
   "source": [
    "df = pd.read_csv('test_data.csv')"
   ]
  },
  {
   "cell_type": "code",
   "execution_count": null,
   "metadata": {},
   "outputs": [],
   "source": [
    "dls = TextDataLoaders.from_df_with_custom_tok(df, custom_tok = tokenizer, is_lm = True, bs = 8, seq_len = 512)"
   ]
  },
  {
   "cell_type": "code",
   "execution_count": null,
   "metadata": {},
   "outputs": [
    {
     "data": {
      "text/html": [
       "<table border=\"1\" class=\"dataframe\">\n",
       "  <thead>\n",
       "    <tr style=\"text-align: right;\">\n",
       "      <th></th>\n",
       "      <th>text</th>\n",
       "      <th>text_</th>\n",
       "    </tr>\n",
       "  </thead>\n",
       "  <tbody>\n",
       "    <tr>\n",
       "      <th>0</th>\n",
       "      <td>If you like film, don't miss this one. If you prefer action, or horror, or romance, then you'll wonder what's happening. Everyone here is stuck in a gangster film. And what happens is transcendental murder.&lt;br /&gt;&lt;br /&gt;There are few similar films. No doubt it will see limited release, and be hard to find. But the search will be worth it. If you want to study a mileu as a potential symbol, then this is indeed a film to study.&lt;br /&gt;&lt;br /&gt;You can't watch it once. If you do you'll never see what's happening. Dark City is better. Joe Vrs. The Volcano is more fun. But Mad Dog Time could convert the gangsta crowd to symbolism...or at least to think twice before shooting again.The biggest surprise in this movie was the performance of Daryl Hannah. Rather than playing the stereotypical ditzy blonde roles that she usually does she plays a street-smart,</td>\n",
       "      <td>you like film, don't miss this one. If you prefer action, or horror, or romance, then you'll wonder what's happening. Everyone here is stuck in a gangster film. And what happens is transcendental murder.&lt;br /&gt;&lt;br /&gt;There are few similar films. No doubt it will see limited release, and be hard to find. But the search will be worth it. If you want to study a mileu as a potential symbol, then this is indeed a film to study.&lt;br /&gt;&lt;br /&gt;You can't watch it once. If you do you'll never see what's happening. Dark City is better. Joe Vrs. The Volcano is more fun. But Mad Dog Time could convert the gangsta crowd to symbolism...or at least to think twice before shooting again.The biggest surprise in this movie was the performance of Daryl Hannah. Rather than playing the stereotypical ditzy blonde roles that she usually does she plays a street-smart,</td>\n",
       "    </tr>\n",
       "    <tr>\n",
       "      <th>1</th>\n",
       "      <td>adult, the next a mature man who realises he has gained everything in life apart from what he really wants. In fact we see Latham grow up in this film, when he encounters the problems of those he envies and realises that their lives are not so good, he sees that his own lot is not so bad.&lt;br /&gt;&lt;br /&gt;This film has fewer weak or dud scenes than many other comedies I have seen. Comedy is so much harder than any other type of drama, it either works or it doesn't and very few comedy writers get it correct every time.I particularly loved the drama scene, where the family take to reading parts written by Latham. The pleasure is in the reaction of Tom Valco (James Gandolfini) and the comments of Brian Valco (Josh Zuckerman). It is the dilemma of the greedy Tom Valco who has to bite his</td>\n",
       "      <td>, the next a mature man who realises he has gained everything in life apart from what he really wants. In fact we see Latham grow up in this film, when he encounters the problems of those he envies and realises that their lives are not so good, he sees that his own lot is not so bad.&lt;br /&gt;&lt;br /&gt;This film has fewer weak or dud scenes than many other comedies I have seen. Comedy is so much harder than any other type of drama, it either works or it doesn't and very few comedy writers get it correct every time.I particularly loved the drama scene, where the family take to reading parts written by Latham. The pleasure is in the reaction of Tom Valco (James Gandolfini) and the comments of Brian Valco (Josh Zuckerman). It is the dilemma of the greedy Tom Valco who has to bite his tongue,</td>\n",
       "    </tr>\n",
       "  </tbody>\n",
       "</table>"
      ],
      "text/plain": [
       "<IPython.core.display.HTML object>"
      ]
     },
     "metadata": {},
     "output_type": "display_data"
    }
   ],
   "source": [
    "dls.show_batch(max_n = 2)"
   ]
  },
  {
   "cell_type": "code",
   "execution_count": null,
   "metadata": {},
   "outputs": [],
   "source": [
    "# cuda\n",
    "model = AutoModelForCausalLM.from_pretrained(pretrained_weights)\n",
    "learn = Learner(dls, model, loss_func=CrossEntropyLossFlat(), cbs=[DropOutput], metrics=Perplexity()).to_fp16()\n",
    "learn = learn.to_parallel()"
   ]
  },
  {
   "cell_type": "code",
   "execution_count": null,
   "metadata": {},
   "outputs": [
    {
     "data": {
      "text/html": [],
      "text/plain": [
       "<IPython.core.display.HTML object>"
      ]
     },
     "metadata": {},
     "output_type": "display_data"
    },
    {
     "data": {
      "text/plain": [
       "(#2) [3.7248127460479736,41.46346664428711]"
      ]
     },
     "execution_count": null,
     "metadata": {},
     "output_type": "execute_result"
    }
   ],
   "source": [
    "# cuda\n",
    "learn.validate()"
   ]
  },
  {
   "cell_type": "code",
   "execution_count": null,
   "metadata": {},
   "outputs": [
    {
     "data": {
      "text/html": [],
      "text/plain": [
       "<IPython.core.display.HTML object>"
      ]
     },
     "metadata": {},
     "output_type": "display_data"
    },
    {
     "data": {
      "text/plain": [
       "SuggestedLRs(lr_min=0.017378008365631102, lr_steep=0.14454397559165955)"
      ]
     },
     "execution_count": null,
     "metadata": {},
     "output_type": "execute_result"
    },
    {
     "data": {
      "image/png": "[encoded data removed]",
      "text/plain": [
       "<Figure size 432x288 with 1 Axes>"
      ]
     },
     "metadata": {
      "needs_background": "light"
     },
     "output_type": "display_data"
    }
   ],
   "source": [
    "# cuda\n",
    "learn.lr_find()"
   ]
  },
  {
   "cell_type": "code",
   "execution_count": null,
   "metadata": {},
   "outputs": [
    {
     "data": {
      "text/html": [
       "<table border=\"1\" class=\"dataframe\">\n",
       "  <thead>\n",
       "    <tr style=\"text-align: left;\">\n",
       "      <th>epoch</th>\n",
       "      <th>train_loss</th>\n",
       "      <th>valid_loss</th>\n",
       "      <th>perplexity</th>\n",
       "      <th>time</th>\n",
       "    </tr>\n",
       "  </thead>\n",
       "  <tbody>\n",
       "    <tr>\n",
       "      <td>0</td>\n",
       "      <td>3.853374</td>\n",
       "      <td>3.660598</td>\n",
       "      <td>38.884571</td>\n",
       "      <td>00:13</td>\n",
       "    </tr>\n",
       "    <tr>\n",
       "      <td>1</td>\n",
       "      <td>3.727628</td>\n",
       "      <td>3.655627</td>\n",
       "      <td>38.691753</td>\n",
       "      <td>00:14</td>\n",
       "    </tr>\n",
       "    <tr>\n",
       "      <td>2</td>\n",
       "      <td>3.582776</td>\n",
       "      <td>3.670292</td>\n",
       "      <td>39.263374</td>\n",
       "      <td>00:13</td>\n",
       "    </tr>\n",
       "    <tr>\n",
       "      <td>3</td>\n",
       "      <td>3.471554</td>\n",
       "      <td>3.683960</td>\n",
       "      <td>39.803696</td>\n",
       "      <td>00:13</td>\n",
       "    </tr>\n",
       "    <tr>\n",
       "      <td>4</td>\n",
       "      <td>3.393571</td>\n",
       "      <td>3.687024</td>\n",
       "      <td>39.925835</td>\n",
       "      <td>00:13</td>\n",
       "    </tr>\n",
       "  </tbody>\n",
       "</table>"
      ],
      "text/plain": [
       "<IPython.core.display.HTML object>"
      ]
     },
     "metadata": {},
     "output_type": "display_data"
    }
   ],
   "source": [
    "# cuda\n",
    "learn.fit_one_cycle(3, 1e-4, wd=1e-4)"
   ]
  },
  {
   "cell_type": "code",
   "execution_count": null,
   "metadata": {},
   "outputs": [],
   "source": [
    "# cuda\n",
    "prompt = \"This movie was \""
   ]
  },
  {
   "cell_type": "code",
   "execution_count": null,
   "metadata": {},
   "outputs": [
    {
     "data": {
      "text/plain": [
       "torch.Size([1, 4])"
      ]
     },
     "execution_count": null,
     "metadata": {},
     "output_type": "execute_result"
    }
   ],
   "source": [
    "# cuda\n",
    "prompt_ids = tokenizer.encode(prompt)\n",
    "inp = tensor(prompt_ids)[None].cuda()\n",
    "inp.shape"
   ]
  },
  {
   "cell_type": "code",
   "execution_count": null,
   "metadata": {},
   "outputs": [
    {
     "name": "stderr",
     "output_type": "stream",
     "text": [
      "Setting `pad_token_id` to `eos_token_id`:50256 for open-end generation.\n"
     ]
    }
   ],
   "source": [
    "# cuda\n",
    "preds = learn.model.generate(inp, max_length=10, num_beams=5, temperature=14)"
   ]
  },
  {
   "cell_type": "code",
   "execution_count": null,
   "metadata": {},
   "outputs": [
    {
     "data": {
      "text/plain": [
       "'This movie was iced up a bit too much'"
      ]
     },
     "execution_count": null,
     "metadata": {},
     "output_type": "execute_result"
    }
   ],
   "source": [
    "# cuda\n",
    "tokenizer.decode(preds[0])"
   ]
  },
  {
   "cell_type": "code",
   "execution_count": null,
   "metadata": {},
   "outputs": [],
   "source": []
  }
 ],
 "metadata": {
  "kernelspec": {
   "display_name": "Python 3",
   "language": "python",
   "name": "python3"
  },
  "language_info": {
   "codemirror_mode": {
    "name": "ipython",
    "version": 3
   },
   "file_extension": ".py",
   "mimetype": "text/x-python",
   "name": "python",
   "nbconvert_exporter": "python",
   "pygments_lexer": "ipython3",
   "version": "3.7.9"
  }
 },
 "nbformat": 4,
 "nbformat_minor": 4
}
