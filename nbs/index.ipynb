{
 "cells": [
  {
   "cell_type": "markdown",
   "metadata": {},
   "source": [
    "# Fastai Transformers\n",
    "\n",
    "> train Huggingface transformers using fastai"
   ]
  },
  {
   "cell_type": "markdown",
   "metadata": {},
   "source": [
    "This small library provides wrappers to train hugginface models with fastai as well as some pretrained models for classification of radiology reports. Refer to the example notebooks for [text generation](03_sequence-generation.ipynb) or [classification].(04_sequence-classification.ipynb)"
   ]
  }
 ],
 "metadata": {
  "kernelspec": {
   "display_name": "Python 3",
   "language": "python",
   "name": "python3"
  }
 },
 "nbformat": 4,
 "nbformat_minor": 4
}
